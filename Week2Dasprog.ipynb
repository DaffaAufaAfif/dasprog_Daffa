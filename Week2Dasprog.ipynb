{
  "nbformat": 4,
  "nbformat_minor": 0,
  "metadata": {
    "colab": {
      "provenance": [],
      "authorship_tag": "ABX9TyO2v903diNFQ3Ub3b0FDoKs",
      "include_colab_link": true
    },
    "kernelspec": {
      "name": "python3",
      "display_name": "Python 3"
    },
    "language_info": {
      "name": "python"
    }
  },
  "cells": [
    {
      "cell_type": "markdown",
      "metadata": {
        "id": "view-in-github",
        "colab_type": "text"
      },
      "source": [
        "<a href=\"https://colab.research.google.com/github/DaffaAufaAfif/dasprog_Daffa/blob/main/Week2Dasprog.ipynb\" target=\"_parent\"><img src=\"https://colab.research.google.com/assets/colab-badge.svg\" alt=\"Open In Colab\"/></a>"
      ]
    },
    {
      "cell_type": "markdown",
      "source": [
        "Latihan 1(MyITS)"
      ],
      "metadata": {
        "id": "mxyaGBwhTFZV"
      }
    },
    {
      "cell_type": "markdown",
      "source": [
        "Panji Belanja(sama kayak di pengasandasprog)"
      ],
      "metadata": {
        "id": "-l4XDkqsTe1f"
      }
    },
    {
      "cell_type": "code",
      "execution_count": null,
      "metadata": {
        "id": "R1n6DAcfS8x4"
      },
      "outputs": [],
      "source": [
        "x= int(input())\n",
        "if x%2==0:\n",
        "    x/=2\n",
        "else:\n",
        "    x-=x/4\n",
        "print(x)"
      ]
    },
    {
      "cell_type": "markdown",
      "source": [
        "Panji cetak"
      ],
      "metadata": {
        "id": "NDc2YQlYTkxh"
      }
    },
    {
      "cell_type": "code",
      "source": [
        "x= int(input())\n",
        "while x!=0:\n",
        "    for i in range(2):\n",
        "        print(\"#\",end=\"\")\n",
        "        x-=1\n",
        "        if x==0: break\n",
        "    if x==0: break\n",
        "    for i in range(2):\n",
        "        print(\"*\",end=\"\")\n",
        "        x-=1\n",
        "        if x==0: break"
      ],
      "metadata": {
        "id": "fklIsIOxTnlQ"
      },
      "execution_count": null,
      "outputs": []
    },
    {
      "cell_type": "markdown",
      "source": [
        "Pandu NxM"
      ],
      "metadata": {
        "id": "Yvl7K-WwTyZe"
      }
    },
    {
      "cell_type": "code",
      "source": [
        "x,y= map(int,input().split())\n",
        "lop1=2\n",
        "lop2=2\n",
        "for n in range(x):\n",
        "    z=y\n",
        "    while z!=0:\n",
        "        for i in range(lop1):\n",
        "            print(\"*\",end=\"\")\n",
        "            lop1-=1\n",
        "            z-=1\n",
        "            if z==0: break\n",
        "        if z==0: break\n",
        "        for i in range(lop2):\n",
        "            print(\"#\",end=\"\")\n",
        "            lop2-=1\n",
        "            z-=1\n",
        "            if z==0: break\n",
        "        lop1=2\n",
        "        lop2=2\n",
        "    print(\" \")"
      ],
      "metadata": {
        "id": "DU76x8LuWvfz"
      },
      "execution_count": null,
      "outputs": []
    },
    {
      "cell_type": "markdown",
      "source": [
        "Pandu cetk"
      ],
      "metadata": {
        "id": "4gyu_yPaW2VU"
      }
    },
    {
      "cell_type": "code",
      "source": [
        "x= int(input())\n",
        "for i in range(x,0,-1):\n",
        "    if (i%2==0):\n",
        "        print(\"*\",end=\"\")\n",
        "    else:\n",
        "        print(\"#\",end=\"\")\n"
      ],
      "metadata": {
        "id": "63q65PIjW4Gy"
      },
      "execution_count": null,
      "outputs": []
    },
    {
      "cell_type": "markdown",
      "source": [
        "Panji cetak(lagi)"
      ],
      "metadata": {
        "id": "1BnRsngQW-z7"
      }
    },
    {
      "cell_type": "code",
      "source": [
        "y,x= map(int,input().split())\n",
        "sym=[\"#\",\"*\"]\n",
        "for j in range(y):\n",
        "    for i in range(x,0,-1):\n",
        "          print(sym[i%2],end=\"\")\n",
        "    temp=sym[0]\n",
        "    sym[0]=sym[1]\n",
        "    sym[1]=temp\n",
        "    print(\" \")\n"
      ],
      "metadata": {
        "id": "szJUFHOlXBqD"
      },
      "execution_count": null,
      "outputs": []
    },
    {
      "cell_type": "markdown",
      "source": [
        "Latihan 2"
      ],
      "metadata": {
        "id": "nig2xeS4Xaj3"
      }
    },
    {
      "cell_type": "markdown",
      "source": [
        "print hasil operasi bilangan"
      ],
      "metadata": {
        "id": "55EWBUKVXfMF"
      }
    },
    {
      "cell_type": "code",
      "source": [
        "a,b,c = map(int,input().split())\n",
        "print(a*a+b-c)"
      ],
      "metadata": {
        "colab": {
          "base_uri": "https://localhost:8080/"
        },
        "id": "8zk1CUjRXk6w",
        "outputId": "bbc0e77f-cf2a-4243-f5ec-54f84166b67f"
      },
      "execution_count": null,
      "outputs": [
        {
          "output_type": "stream",
          "name": "stdout",
          "text": [
            "2 3 -1\n",
            "8\n"
          ]
        }
      ]
    },
    {
      "cell_type": "markdown",
      "source": [
        "nama dan umur"
      ],
      "metadata": {
        "id": "WmJlId46YCj4"
      }
    },
    {
      "cell_type": "code",
      "source": [
        "nama=\"Daffa\"\n",
        "umur =18\n",
        "print(f\"Nama saya {nama}\\nUmur saya {umur} tahun\")"
      ],
      "metadata": {
        "colab": {
          "base_uri": "https://localhost:8080/"
        },
        "id": "CXh77PchYHy_",
        "outputId": "5ab28e0d-d3b8-4cc6-f5f2-9c32f99c5d78"
      },
      "execution_count": null,
      "outputs": [
        {
          "output_type": "stream",
          "name": "stdout",
          "text": [
            "Nama saya Daffa\n",
            "Umur saya 18 tahun\n"
          ]
        }
      ]
    },
    {
      "cell_type": "markdown",
      "source": [
        "soal 6:Belanja\n"
      ],
      "metadata": {
        "id": "laqx8GqWaGwg"
      }
    },
    {
      "cell_type": "code",
      "source": [
        "apel = 6000\n",
        "jeruk = 2000\n",
        "anggur = 1000\n",
        "a=list(map(int,input().split()))\n",
        "print(\"Total belanjaan:\",apel*a[0]+jeruk*a[1]+anggur*a[2])"
      ],
      "metadata": {
        "colab": {
          "base_uri": "https://localhost:8080/"
        },
        "id": "RJIaV84PaTiv",
        "outputId": "edfe7e48-1520-41ba-ada1-ab759d016674"
      },
      "execution_count": null,
      "outputs": [
        {
          "output_type": "stream",
          "name": "stdout",
          "text": [
            "3 1 2\n",
            "Total belanjaan 22000\n"
          ]
        }
      ]
    },
    {
      "cell_type": "markdown",
      "source": [
        "Belanja lagi"
      ],
      "metadata": {
        "id": "Lq5LlsQrcAQv"
      }
    },
    {
      "cell_type": "code",
      "source": [
        "apel = 6000\n",
        "jeruk = 2000\n",
        "anggur = 1000\n",
        "a=list(map(int,input().split()))\n",
        "print(\"Kembalian:\",a[3]-(apel*a[0]+jeruk*a[1]+anggur*a[2]))"
      ],
      "metadata": {
        "colab": {
          "base_uri": "https://localhost:8080/"
        },
        "id": "thKhzApwb_2v",
        "outputId": "a19b188d-78f0-498b-8bf2-b4ffed160be2"
      },
      "execution_count": null,
      "outputs": [
        {
          "output_type": "stream",
          "name": "stdout",
          "text": [
            "3 1 2 25000\n",
            "Kembalian: 3000\n"
          ]
        }
      ]
    },
    {
      "cell_type": "markdown",
      "source": [
        "Uang Kas"
      ],
      "metadata": {
        "id": "tsk3TTJ0koJQ"
      }
    },
    {
      "cell_type": "code",
      "source": [
        "a=list(map(int,input().split()))\n",
        "print(a[0]*a[1])"
      ],
      "metadata": {
        "colab": {
          "base_uri": "https://localhost:8080/"
        },
        "id": "7S1mXpuGkpno",
        "outputId": "62a0d460-399a-455c-95dd-172b498914a0"
      },
      "execution_count": null,
      "outputs": [
        {
          "output_type": "stream",
          "name": "stdout",
          "text": [
            "2 2000\n",
            "4000\n"
          ]
        }
      ]
    },
    {
      "cell_type": "markdown",
      "source": [
        "Baru belajar Aljabar"
      ],
      "metadata": {
        "id": "FCfgaoYVltAr"
      }
    },
    {
      "cell_type": "code",
      "source": [
        "a[0]=int(input())\n",
        "a[1]=int(input())\n",
        "print(a[1]//a[0])"
      ],
      "metadata": {
        "colab": {
          "base_uri": "https://localhost:8080/"
        },
        "id": "2s9x0xShlver",
        "outputId": "e4400104-3485-4818-8769-dcf8a929e0ea"
      },
      "execution_count": null,
      "outputs": [
        {
          "output_type": "stream",
          "name": "stdout",
          "text": [
            "2\n",
            "6\n",
            "3\n"
          ]
        }
      ]
    },
    {
      "cell_type": "markdown",
      "source": [
        "Belajar Aljabar Lagi"
      ],
      "metadata": {
        "id": "-i156UHgmjLs"
      }
    },
    {
      "cell_type": "code",
      "source": [
        "a=list(map(int,input().split()))\n",
        "print((a[1]+a[2])//a[0])"
      ],
      "metadata": {
        "colab": {
          "base_uri": "https://localhost:8080/"
        },
        "id": "qW6ihZCVm3Cy",
        "outputId": "0c441e0e-7481-4d9a-9d15-20911e32fb40"
      },
      "execution_count": null,
      "outputs": [
        {
          "output_type": "stream",
          "name": "stdout",
          "text": [
            "2 5 1\n",
            "3\n"
          ]
        }
      ]
    },
    {
      "cell_type": "markdown",
      "source": [
        "Tukar hdiah"
      ],
      "metadata": {
        "id": "1xGU3xx6nEjb"
      }
    },
    {
      "cell_type": "code",
      "source": [
        "a=list(map(int,input().split()))\n",
        "a[2]+=a[0]+a[1]+a[3]\n",
        "for i in range(4):\n",
        "  a[i]=0 if i!=2 else a[i]\n",
        "print(a)"
      ],
      "metadata": {
        "colab": {
          "base_uri": "https://localhost:8080/"
        },
        "id": "gDIivyhdnHFk",
        "outputId": "32019d7e-715c-4f31-80d1-ca95cc63f5b1"
      },
      "execution_count": null,
      "outputs": [
        {
          "output_type": "stream",
          "name": "stdout",
          "text": [
            "1 1 1 1\n",
            "[0, 0, 4, 0]\n"
          ]
        }
      ]
    },
    {
      "cell_type": "markdown",
      "source": [
        "update var"
      ],
      "metadata": {
        "id": "6kkz1g8WqWc4"
      }
    },
    {
      "cell_type": "code",
      "source": [
        "a=list(map(int,input().split()))\n",
        "x=list(map(int,input().split()))\n",
        "t=a[1]\n",
        "a[1]=a[0]+x[0]\n",
        "a[0]=t+x[1]\n",
        "print(a)\n"
      ],
      "metadata": {
        "colab": {
          "base_uri": "https://localhost:8080/"
        },
        "id": "J11qF-WxqYzG",
        "outputId": "070f862f-0bfe-4e63-b9b8-15334c34ee1b"
      },
      "execution_count": null,
      "outputs": [
        {
          "output_type": "stream",
          "name": "stdout",
          "text": [
            "1 2\n",
            "2 0\n",
            "[2, 3]\n"
          ]
        }
      ]
    },
    {
      "cell_type": "markdown",
      "source": [
        "Update var lagi"
      ],
      "metadata": {
        "id": "f9-hoEjvunUd"
      }
    },
    {
      "cell_type": "code",
      "source": [
        "u=list(map(int,input().split()))\n",
        "l=list(map(int,input().split()))\n",
        "u[0]+=l[0]\n",
        "u[1]+=l[1]\n",
        "temp=u[0]\n",
        "u[0]=u[1]\n",
        "u[1]=temp\n",
        "l[0]//=u[0]\n",
        "u[1]-=u[0]\n",
        "u[0]=l[0]\n",
        "u[1]*=u[0]\n",
        "print(u)\n"
      ],
      "metadata": {
        "id": "bVd-WQDyuqy7",
        "colab": {
          "base_uri": "https://localhost:8080/"
        },
        "outputId": "33be6c6b-d2c1-4cad-ebf1-b339226a1aec"
      },
      "execution_count": null,
      "outputs": [
        {
          "output_type": "stream",
          "name": "stdout",
          "text": [
            "1 2\n",
            "2 0\n",
            "[0, 0]\n"
          ]
        }
      ]
    },
    {
      "cell_type": "code",
      "source": [
        "#bilangan apa tuh\n",
        "i = int(input())\n",
        "if i>4:\n",
        "  print(\"HUJANDERAS\")\n",
        "else:\n",
        "  print(\"PANAS\")"
      ],
      "metadata": {
        "id": "3xIcXTqRV_CS"
      },
      "execution_count": null,
      "outputs": []
    },
    {
      "cell_type": "code",
      "source": [
        "#bilangan apa tuh lagi\n",
        "i = int(input())\n",
        "if i-3>1:\n",
        "  print(\"HUJANDERAS\")\n",
        "else:\n",
        "  print(\"PANAS\")"
      ],
      "metadata": {
        "id": "q4KP_I7l4qZI"
      },
      "execution_count": null,
      "outputs": []
    },
    {
      "cell_type": "code",
      "source": [
        "#bilangan apa tuh lagi2\n",
        "i = int(input())\n",
        "if i%5==2:\n",
        "  print(\"HUJANDERAS\")\n",
        "else:\n",
        "  print(\"PANAS\")"
      ],
      "metadata": {
        "id": "nPAv02KR4xwk"
      },
      "execution_count": null,
      "outputs": []
    },
    {
      "cell_type": "code",
      "source": [
        "#kevin baik hti\n",
        "x,y = map(int,input().split())\n",
        "if x%y==0:\n",
        "  print(\"BISA\")\n",
        "else:\n",
        "  print(\"MAAF\")"
      ],
      "metadata": {
        "id": "Xh7Sca7T49tn"
      },
      "execution_count": null,
      "outputs": []
    },
    {
      "cell_type": "code",
      "source": [
        "#kevin baik hti lagi\n",
        "x,y,z = map(int,input().split())\n",
        "if (x+z)%y==0:\n",
        "  print(\"BISA\")\n",
        "else:\n",
        "  print(\"MAAF\")"
      ],
      "metadata": {
        "id": "jTjXWtsu5Mw0"
      },
      "execution_count": null,
      "outputs": []
    },
    {
      "cell_type": "code",
      "source": [
        "#gak dulu mtk\n",
        "x,y,z = map(int,input().split())\n",
        "if (x+z)%y==0:\n",
        "  print(\"BISA\")\n",
        "else:\n",
        "  print(\"MAAF\")"
      ],
      "metadata": {
        "id": "xP_rDqsm5bIb"
      },
      "execution_count": null,
      "outputs": []
    },
    {
      "cell_type": "code",
      "source": [
        "#Banyak banyakan angpao\n",
        "x,y = map(int,input().split())\n",
        "if x<y:\n",
        "  print(\"Abdan lebih banyak\")\n",
        "elif y>x:\n",
        "  print(\"Kevin lebih banyak\")\n",
        "else:\n",
        "  print(\"Seri\")"
      ],
      "metadata": {
        "colab": {
          "base_uri": "https://localhost:8080/"
        },
        "id": "JVuHi8d-5tHx",
        "outputId": "56c3b9b4-adbc-48bd-e80d-e4d7e599a732"
      },
      "execution_count": null,
      "outputs": [
        {
          "output_type": "stream",
          "name": "stdout",
          "text": [
            "1 2\n",
            "Abdan lebih banyak\n"
          ]
        }
      ]
    },
    {
      "cell_type": "code",
      "source": [
        "#cek angpao\n",
        "x = map(int,input().split())\n",
        "if x<=999:\n",
        "  print(\"Ratusan\")\n",
        "else:\n",
        "  print(\"Bukan\")"
      ],
      "metadata": {
        "id": "OFaHKzW76T4d"
      },
      "execution_count": null,
      "outputs": []
    },
    {
      "cell_type": "code",
      "source": [
        "#angka ajaib\n",
        "i= int(input())\n",
        "if (i>999):\n",
        "    print(\"Ribuan\")\n",
        "elif (i>99):\n",
        "    print(\"ratusan\")\n",
        "elif (i>9):\n",
        "    print(\"puluhan\")\n",
        "else:\n",
        "    print(\"Satuan\")"
      ],
      "metadata": {
        "id": "t2lRBHiJ61tw"
      },
      "execution_count": null,
      "outputs": []
    },
    {
      "cell_type": "code",
      "source": [
        "#kevin rajin pushrank\n",
        "i= int(input())\n",
        "if (i>4737):\n",
        "    print(\"Epic\")\n",
        "elif (i>3501):\n",
        "    print(\"Legend\")\n",
        "elif (i>1098):\n",
        "    print(\"Mythic\")\n",
        "elif (i>899):\n",
        "    print(\"Warior\")\n",
        "else:\n",
        "    print(\"Bronze\")"
      ],
      "metadata": {
        "id": "hhPV8mLf7Qod"
      },
      "execution_count": null,
      "outputs": []
    },
    {
      "cell_type": "code",
      "source": [
        "#kotak ajaib\n",
        "a= list(map(int,input().split()))\n",
        "x, y=map(int,input().split())\n",
        "print(a[x]+a[y])"
      ],
      "metadata": {
        "id": "G2b-apK-7cck"
      },
      "execution_count": null,
      "outputs": []
    },
    {
      "cell_type": "code",
      "source": [
        "#daftar angka ajaib\n",
        "a= list(map(int,input().split()))\n",
        "x, y=map(int,input().split())\n",
        "print(a[x]+a[y])"
      ],
      "metadata": {
        "id": "ocA8XeEN821c"
      },
      "execution_count": null,
      "outputs": []
    },
    {
      "cell_type": "code",
      "source": [
        "#angka angka\n",
        "n=int(input())\n",
        "for i in range(1,n+1):\n",
        "    for j in range(1,i+1):\n",
        "        print(j)"
      ],
      "metadata": {
        "id": "DECW8LQo9E-H"
      },
      "execution_count": null,
      "outputs": []
    },
    {
      "cell_type": "code",
      "source": [
        "#Pagar pagar\n",
        "n = int(input())\n",
        "for i in range(n):\n",
        "  print('#'*(i+1))"
      ],
      "metadata": {
        "colab": {
          "base_uri": "https://localhost:8080/"
        },
        "id": "svqu0gPw9THm",
        "outputId": "d45bbe7b-e9c4-4390-dfa8-770764c3ad7e"
      },
      "execution_count": null,
      "outputs": [
        {
          "output_type": "stream",
          "name": "stdout",
          "text": [
            "3\n",
            "#\n",
            "##\n",
            "###\n"
          ]
        }
      ]
    },
    {
      "cell_type": "code",
      "source": [
        "#angka angka lagi\n",
        "n=int(input())\n",
        "for i in range(1,n+1):\n",
        "    for j in range(1,i+1):\n",
        "        print(j,sep='',end='')\n",
        "    print('')"
      ],
      "metadata": {
        "colab": {
          "base_uri": "https://localhost:8080/"
        },
        "id": "xVx7fwDB91l7",
        "outputId": "e448d2de-014c-4baf-de0e-bc29a5aaa1b4"
      },
      "execution_count": null,
      "outputs": [
        {
          "output_type": "stream",
          "name": "stdout",
          "text": [
            "3\n",
            "1\n",
            "12\n",
            "123\n"
          ]
        }
      ]
    },
    {
      "cell_type": "code",
      "source": [
        "#angka angka tapi dibalik\n",
        "n=int(input())\n",
        "for i in range(1,n+1):\n",
        "    for j in range(i,0,-1):\n",
        "        print(j,sep='',end='')\n",
        "    print('')"
      ],
      "metadata": {
        "colab": {
          "base_uri": "https://localhost:8080/"
        },
        "id": "-RqWhlAW-Yeq",
        "outputId": "3207cd4e-4bdd-445b-a8d4-096e5801ca75"
      },
      "execution_count": null,
      "outputs": [
        {
          "output_type": "stream",
          "name": "stdout",
          "text": [
            "3\n",
            "1\n",
            "21\n",
            "321\n"
          ]
        }
      ]
    },
    {
      "cell_type": "code",
      "source": [
        "#angka angka tapi kebalik lagi\n",
        "n=int(input())\n",
        "for i in range(n,0,-1):\n",
        "    for j in range(1,i+1):\n",
        "        print(j,sep='',end='')\n",
        "    print('')"
      ],
      "metadata": {
        "colab": {
          "base_uri": "https://localhost:8080/"
        },
        "id": "PSOWC0bB-3qK",
        "outputId": "80e2c270-ec7f-4df9-ade6-dde902d57c68"
      },
      "execution_count": null,
      "outputs": [
        {
          "output_type": "stream",
          "name": "stdout",
          "text": [
            "3\n",
            "123\n",
            "12\n",
            "1\n"
          ]
        }
      ]
    },
    {
      "cell_type": "code",
      "source": [
        "#angka angka tapi kebalik banget\n",
        "n=int(input())\n",
        "for i in range(n,0,-1):\n",
        "    for j in range(i,0,-1):\n",
        "        print(j,sep='',end='')\n",
        "    print('')"
      ],
      "metadata": {
        "colab": {
          "base_uri": "https://localhost:8080/"
        },
        "id": "38zqWbMg-m2R",
        "outputId": "6499e770-e4a7-45d0-f5ce-4f463ac2cf17"
      },
      "execution_count": null,
      "outputs": [
        {
          "output_type": "stream",
          "name": "stdout",
          "text": [
            "3\n",
            "321\n",
            "21\n",
            "1\n"
          ]
        }
      ]
    }
  ]
}