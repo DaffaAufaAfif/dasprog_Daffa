{
  "nbformat": 4,
  "nbformat_minor": 0,
  "metadata": {
    "colab": {
      "provenance": [],
      "authorship_tag": "ABX9TyPQr19A2/HLx02/yazOqxRJ",
      "include_colab_link": true
    },
    "kernelspec": {
      "name": "python3",
      "display_name": "Python 3"
    },
    "language_info": {
      "name": "python"
    }
  },
  "cells": [
    {
      "cell_type": "markdown",
      "metadata": {
        "id": "view-in-github",
        "colab_type": "text"
      },
      "source": [
        "<a href=\"https://colab.research.google.com/github/DaffaAufaAfif/dasprog_Daffa/blob/main/PenugasanDasprog.ipynb\" target=\"_parent\"><img src=\"https://colab.research.google.com/assets/colab-badge.svg\" alt=\"Open In Colab\"/></a>"
      ]
    },
    {
      "cell_type": "markdown",
      "source": [
        "Bilangan apa tuh"
      ],
      "metadata": {
        "id": "3wOhW3muUUHj"
      }
    },
    {
      "cell_type": "code",
      "execution_count": null,
      "metadata": {
        "id": "sSW7FZV6I9kv",
        "colab": {
          "base_uri": "https://localhost:8080/"
        },
        "outputId": "6fe1df0f-238d-40ab-84b5-8bfb7d87ed5c"
      },
      "outputs": [
        {
          "output_type": "stream",
          "name": "stdout",
          "text": [
            "5\n",
            "HUJANDERAS\n"
          ]
        }
      ],
      "source": [
        "#bilangan apa tuh\n",
        "i = int(input())\n",
        "if i>4:\n",
        "  print(\"HUJANDERAS\")\n",
        "else:\n",
        "  print(\"PANAS\")"
      ]
    },
    {
      "cell_type": "markdown",
      "source": [
        "Kevin Baik Hati"
      ],
      "metadata": {
        "id": "PXmISgEIUYFD"
      }
    },
    {
      "cell_type": "code",
      "source": [
        "#kevin baik hti\n",
        "x,y = map(int,input().split())\n",
        "if x%y==0:\n",
        "  print(\"BISA\")\n",
        "else:\n",
        "  print(\"MAAF\")"
      ],
      "metadata": {
        "id": "H8BG-gPcS5UD"
      },
      "execution_count": null,
      "outputs": []
    },
    {
      "cell_type": "markdown",
      "source": [
        "If Elif Else"
      ],
      "metadata": {
        "id": "bX-c6sHPUasc"
      }
    },
    {
      "cell_type": "code",
      "source": [
        "x =input()\n",
        "x=x.split()\n",
        "s1=len(x[0])\n",
        "s2=len(x[1])\n",
        "s3=len(x[2])\n",
        "if (s2 > s1 and s2>s3) or (s2 < s1 and s2 < s3):\n",
        "    print(\"Yeehaaw\")\n",
        "elif (s3>s2 and s2>s1) or (s3<s2 and s2<s1):\n",
        "    print(\"Woohoohoo\")\n",
        "elif (s3 == s2) or (s2==s1) or (s1==s3):\n",
        "    print(\"Hebwueh\")\n",
        "#evaluasi dari jawaban temen\n",
        "#pada input bisa pakai map split tapi tipenya len agar langsung jadi panjangnya"
      ],
      "metadata": {
        "id": "d5Lwbs0aTsbf",
        "colab": {
          "base_uri": "https://localhost:8080/"
        },
        "outputId": "778762d4-9ba2-4489-f1df-0102125ead4e"
      },
      "execution_count": null,
      "outputs": [
        {
          "output_type": "stream",
          "name": "stdout",
          "text": [
            "Daffa auda adid\n",
            "Hebwueh\n"
          ]
        }
      ]
    },
    {
      "cell_type": "markdown",
      "source": [
        "Kevin Rajin Pushrank"
      ],
      "metadata": {
        "id": "YPPnBPEUUdZe"
      }
    },
    {
      "cell_type": "code",
      "source": [
        "i= int(input())\n",
        "if (i>4737):\n",
        "    print(\"Epic\")\n",
        "elif (i>3501):\n",
        "    print(\"Legend\")\n",
        "elif (i>1098):\n",
        "    print(\"Mythic\")\n",
        "elif (i>899):\n",
        "    print(\"Warior\")\n",
        "else:\n",
        "    print(\"Bronze\")"
      ],
      "metadata": {
        "id": "KCkAIQIdZhKC"
      },
      "execution_count": null,
      "outputs": []
    },
    {
      "cell_type": "markdown",
      "source": [
        "Huruf dikali"
      ],
      "metadata": {
        "id": "6k6rNwmMUhwY"
      }
    },
    {
      "cell_type": "code",
      "source": [
        "def strConvert(a):\n",
        "    b=[\"a\",\"b\",\"c\",\"d\",\"e\",\n",
        "   \"f\",\"g\",\"h\",\"i\",\"j\",\n",
        "   \"k\",\"l\",\"m\",\"n\",\"o\",\n",
        "   \"p\",\"q\",\"r\",\"s\",\"t\",\n",
        "   \"u\",\"v\",\"w\",\"x\",\"y\",\n",
        "   \"z\"]\n",
        "    ret=0\n",
        "    for i in b:\n",
        "        ret+=1\n",
        "        if a==i:\n",
        "            return ret\n",
        "    return 1 #anggep tidak ada\n",
        "def isNum(a):\n",
        "    b=[\"1\",\"2\",\"3\",\"4\",\"5\",\"6\",\"7\",\"8\",\"9\",\"0\"]\n",
        "    for i in b:\n",
        "        if a==i:\n",
        "            return True\n",
        "    return False\n",
        "x=input()\n",
        "x=x.lower()\n",
        "hasil=1\n",
        "for i in (x):\n",
        "    if not isNum(i):\n",
        "        conv=strConvert(i)\n",
        "    else:\n",
        "        conv=int(i)\n",
        "    hasil*=conv\n",
        "print(hasil)"
      ],
      "metadata": {
        "id": "d5wV0ojrp7k9"
      },
      "execution_count": null,
      "outputs": []
    },
    {
      "cell_type": "markdown",
      "source": [
        "Diskon"
      ],
      "metadata": {
        "id": "O7XORt-CUjQ4"
      }
    },
    {
      "cell_type": "code",
      "source": [
        "x= int(input())\n",
        "if x%2==0:\n",
        "    x/=2\n",
        "else:\n",
        "    x-=x/4\n",
        "print(x)"
      ],
      "metadata": {
        "id": "krHTHeKTp9_r"
      },
      "execution_count": null,
      "outputs": []
    },
    {
      "cell_type": "markdown",
      "source": [
        "Belanja"
      ],
      "metadata": {
        "id": "WKSzgWmYUlVI"
      }
    },
    {
      "cell_type": "code",
      "source": [
        "x= int(input())\n",
        "while x!=0:\n",
        "    for i in range(2):\n",
        "        print(\"#\",end=\"\")\n",
        "        x-=1\n",
        "        if x==0: break\n",
        "    if x==0: break\n",
        "    for i in range(2):\n",
        "        print(\"*\",end=\"\")\n",
        "        x-=1\n",
        "        if x==0: break"
      ],
      "metadata": {
        "id": "uAxIH35Kr2jY",
        "colab": {
          "base_uri": "https://localhost:8080/"
        },
        "outputId": "75fd8916-214e-4536-8ff1-24854a56aa4c"
      },
      "execution_count": null,
      "outputs": [
        {
          "output_type": "stream",
          "name": "stdout",
          "text": [
            "5\n",
            "##**#"
          ]
        }
      ]
    },
    {
      "cell_type": "markdown",
      "source": [
        "Belanja NxM"
      ],
      "metadata": {
        "id": "rta8CEpeUqTK"
      }
    },
    {
      "cell_type": "code",
      "source": [
        "x,y= map(int,input().split())\n",
        "lop1=2\n",
        "lop2=2\n",
        "for n in range(x):\n",
        "    z=y\n",
        "    while z!=0:\n",
        "        for i in range(lop1):\n",
        "            print(\"*\",end=\"\")\n",
        "            lop1-=1\n",
        "            z-=1\n",
        "            if z==0: break\n",
        "        if z==0: break\n",
        "        for i in range(lop2):\n",
        "            print(\"#\",end=\"\")\n",
        "            lop2-=1\n",
        "            z-=1\n",
        "            if z==0: break\n",
        "        lop1=2\n",
        "        lop2=2\n",
        "    print(\" \")"
      ],
      "metadata": {
        "id": "KEawJ7eHUun8"
      },
      "execution_count": null,
      "outputs": []
    },
    {
      "cell_type": "markdown",
      "source": [
        "Pola"
      ],
      "metadata": {
        "id": "nGZ7Zkx0Z1lG"
      }
    },
    {
      "cell_type": "code",
      "source": [
        "x= int(input())\n",
        "for i in range(x,0,-1):\n",
        "    if (i%2==0):\n",
        "        print(\"*\",end=\"\")\n",
        "    else:\n",
        "        print(\"#\",end=\"\")\n"
      ],
      "metadata": {
        "id": "r5Ra518tXp1j"
      },
      "execution_count": null,
      "outputs": []
    },
    {
      "cell_type": "markdown",
      "source": [
        "Pola NxM"
      ],
      "metadata": {
        "id": "GSguP6VtZ4Tv"
      }
    },
    {
      "cell_type": "code",
      "source": [
        "y,x= map(int,input().split())\n",
        "sym=[\"#\",\"*\"]\n",
        "for j in range(y):\n",
        "    for i in range(x,0,-1):\n",
        "          print(sym[i%2],end=\"\")\n",
        "    temp=sym[0]\n",
        "    sym[0]=sym[1]\n",
        "    sym[1]=temp\n",
        "    print(\" \")\n"
      ],
      "metadata": {
        "id": "NUjhd9sTZ_AC",
        "colab": {
          "base_uri": "https://localhost:8080/"
        },
        "outputId": "ed4796ad-18df-4f27-9ffd-38c41febbc15"
      },
      "execution_count": null,
      "outputs": [
        {
          "output_type": "stream",
          "name": "stdout",
          "text": [
            "2 3\n",
            "*#* \n",
            "#*# \n"
          ]
        }
      ]
    },
    {
      "cell_type": "markdown",
      "source": [
        "Angak Angka"
      ],
      "metadata": {
        "id": "L7aNuAfOb4u9"
      }
    },
    {
      "cell_type": "code",
      "source": [
        "n=int(input())\n",
        "for i in range(1,n+1):\n",
        "    for j in range(1,i+1):\n",
        "        print(j)"
      ],
      "metadata": {
        "colab": {
          "base_uri": "https://localhost:8080/"
        },
        "id": "KTiJxFAKb9k3",
        "outputId": "dfe4990b-c5e4-4926-f239-1974ddd37284"
      },
      "execution_count": null,
      "outputs": [
        {
          "output_type": "stream",
          "name": "stdout",
          "text": [
            "3\n",
            "1\n",
            "1\n",
            "2\n",
            "1\n",
            "2\n",
            "3\n"
          ]
        }
      ]
    },
    {
      "cell_type": "markdown",
      "source": [
        "Info geser"
      ],
      "metadata": {
        "id": "ZYmP-ChmeOI8"
      }
    },
    {
      "cell_type": "code",
      "source": [
        "def geser(ix,en):\n",
        "    alp=[\"a\",\"b\",\"c\",\"d\",\"e\",\n",
        "   \"f\",\"g\",\"h\",\"i\",\"j\",\n",
        "   \"k\",\"l\",\"m\",\"n\",\"o\",\n",
        "   \"p\",\"q\",\"r\",\"s\",\"t\",\n",
        "   \"u\",\"v\",\"w\",\"x\",\"y\",\n",
        "   \"z\"]\n",
        "    offside=0\n",
        "    mark=0\n",
        "    for i in range(26):\n",
        "        if alp[i]==ix[0]:\n",
        "            mark=i\n",
        "        if alp[i]==en[0]:\n",
        "            offside=i\n",
        "            break\n",
        "    #kalo gak logis\n",
        "    if (offside<mark):\n",
        "        print(\"kena\")\n",
        "        return -1 #gak manuk akal\n",
        "\n",
        "    offside-=mark\n",
        "    for i in range(len(ix)):\n",
        "        for j in range(26):\n",
        "            if ix[i]==alp[j]:\n",
        "                if (en[i]!=alp[(j+offside)%26]): #mod 26 incase ada yang kelebihan\n",
        "                    return -1\n",
        "    return offside\n",
        "x=input()\n",
        "en=input()\n",
        "ix=x[::-1]#balik dulu,revers x pake slicing\n",
        "res=geser(ix.lower(), en.lower())#cek jarak pergeseran\n",
        "if (res==-1):\n",
        "    print(\"Mending pulang aja\")\n",
        "else:\n",
        "    print(\"Silahkan berjalan sejauh \"+str(res)+\" meter\")"
      ],
      "metadata": {
        "id": "nb1rIdomeV-f"
      },
      "execution_count": null,
      "outputs": []
    }
  ]
}